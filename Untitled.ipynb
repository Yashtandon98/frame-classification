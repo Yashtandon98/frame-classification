{
 "cells": [
  {
   "cell_type": "code",
   "execution_count": null,
   "metadata": {},
   "outputs": [],
   "source": [
    "from PIL import Image\n",
    "import numpy as np\n",
    "import shutil\n",
    "import os\n",
    "import cv2\n",
    "import keras\n",
    "from keras.utils import np_utils\n",
    "from keras.models import Sequential\n",
    "from keras.layers import Conv2D,MaxPooling2D,Dense,Flatten,Dropout\n",
    "from keras.models import model_from_json\n",
    "import imageio\n",
    "imageio.plugins.ffmpeg.download()\n",
    "import pandas as pd\n",
    "import numpy as np\n",
    "import librosa\n",
    "import IPython.display as d\n",
    "from moviepy.editor import *\n",
    "import matplotlib.pyplot as plt\n",
    "from moviepy.video.io.ffmpeg_tools import ffmpeg_extract_subclip\n",
    "from moviepy.editor import VideoFileClip, concatenate_videoclips"
   ]
  },
  {
   "cell_type": "code",
   "execution_count": null,
   "metadata": {},
   "outputs": [],
   "source": [
    "data = []\n",
    "labels = []\n",
    "\n",
    "inter = os.listdir(\"C:/Users/Yash Tandon/Desktop/python course/ML projects/videocnn/dataset/interesting\")\n",
    "for inte in inter:\n",
    "    img = cv2.imread(\"C:/Users/Yash Tandon/Desktop/python course/ML projects/videocnn/dataset/interesting/\" + inte)\n",
    "    print(inte)\n",
    "    print(img)\n",
    "    file = Image.fromarray(img, 'RGB')\n",
    "    rimage = file.resize((50, 50))\n",
    "    data.append(np.array(rimage))\n",
    "    labels.append(0)\n",
    "\n",
    "ninter = os.listdir(\"C:/Users/Yash Tandon/Desktop/python course/ML projects/videocnn/dataset/not-interesting\")\n",
    "for ni in ninter:\n",
    "    img = cv2.imread(\"C:/Users/Yash Tandon/Desktop/python course/ML projects/videocnn/dataset/not-interesting/\" + ni)\n",
    "    file = Image.fromarray(img, 'RGB')\n",
    "    rimage = file.resize((50, 50))\n",
    "    data.append(np.array(rimage))\n",
    "    labels.append(1)"
   ]
  },
  {
   "cell_type": "code",
   "execution_count": null,
   "metadata": {},
   "outputs": [],
   "source": [
    "classifications = np.array(data)\n",
    "labels = np.array(labels)\n",
    "\n",
    "np.save('classifications',classifications)\n",
    "np.save('labels',labels)\n",
    "\n",
    "s = np.arange(classifications.shape[0])\n",
    "np.random.shuffle(s)\n",
    "classifications = classifications[s]\n",
    "labels = labels[s]\n",
    "\n",
    "nclasses = len(np.unique(labels))\n",
    "dlen = len(classifications)"
   ]
  },
  {
   "cell_type": "code",
   "execution_count": null,
   "metadata": {},
   "outputs": [],
   "source": [
    "(x_train,x_test)=classifications[(int)(0.1*dlen):],classifications[:(int)(0.1*dlen)]\n",
    "x_train = x_train.astype('float32')/255\n",
    "x_test = x_test.astype('float32')/255\n",
    "train_length=len(x_train)\n",
    "test_length=len(x_test)\n",
    "\n",
    "(y_train,y_test)=labels[(int)(0.1*dlen):],labels[:(int)(0.1*dlen)]\n",
    "\n",
    "y_train=keras.utils.to_categorical(y_train,nclasses)\n",
    "y_test=keras.utils.to_categorical(y_test,nclasses)\n",
    "model=Sequential()\n",
    "model.add(Conv2D(filters=16,kernel_size=2,padding=\"same\",activation=\"relu\",input_shape=(50,50,3)))\n",
    "model.add(MaxPooling2D(pool_size=2))\n",
    "model.add(Conv2D(filters=32,kernel_size=2,padding=\"same\",activation=\"relu\"))\n",
    "model.add(MaxPooling2D(pool_size=2))\n",
    "model.add(Conv2D(filters=64,kernel_size=2,padding=\"same\",activation=\"relu\"))\n",
    "model.add(MaxPooling2D(pool_size=2))\n",
    "model.add(Dropout(0.2))\n",
    "model.add(Flatten())\n",
    "model.add(Dense(500,activation=\"relu\"))\n",
    "model.add(Dropout(0.2))\n",
    "model.add(Dense(2,activation=\"softmax\"))\n",
    "model.summary()"
   ]
  },
  {
   "cell_type": "code",
   "execution_count": null,
   "metadata": {},
   "outputs": [],
   "source": [
    "model.compile(loss='categorical_crossentropy', optimizer='adam', metrics=['accuracy'])"
   ]
  },
  {
   "cell_type": "code",
   "execution_count": null,
   "metadata": {},
   "outputs": [],
   "source": [
    "model.fit(x_train,y_train,batch_size=50,epochs=100,verbose=1)"
   ]
  },
  {
   "cell_type": "code",
   "execution_count": null,
   "metadata": {},
   "outputs": [],
   "source": [
    "score = model.evaluate(x_test, y_test, verbose=1)\n",
    "print('\\n', 'Test accuracy:', score[1])"
   ]
  },
  {
   "cell_type": "code",
   "execution_count": null,
   "metadata": {},
   "outputs": [],
   "source": [
    "def convert_to_array(img):\n",
    "    im = cv2.imread(img)\n",
    "    img = Image.fromarray(im, 'RGB')\n",
    "    image = img.resize((50, 50))\n",
    "    return np.array(image)\n",
    "\n",
    "def get_classification(label):\n",
    "    if label==0:\n",
    "        return \"interesting\"\n",
    "    if label==1:\n",
    "        return \"not-interesting\"\n",
    "    \n",
    "def predict_class(file):\n",
    "    print(\"Predicting .................................\")\n",
    "    ar=convert_to_array(file)\n",
    "    ar=ar/255\n",
    "    label=1\n",
    "    a=[]\n",
    "    a.append(ar)\n",
    "    a=np.array(a)\n",
    "    score=model.predict(a,verbose=1)\n",
    "    print(score)\n",
    "    label_index=np.argmax(score)\n",
    "    print(label_index)\n",
    "    acc=np.max(score)\n",
    "    fclass=get_classification(label_index)\n",
    "    print(fclass)\n",
    "    print(\"The predicted class for the frame is \"+fclass+\" with accuracy =    \"+str(acc))\n",
    "    dest1 = \"C:/Users/Yash Tandon/Desktop/python course/ML projects/videocnn/iframes\"\n",
    "    dest2 = \"C:/Users/Yash Tandon/Desktop/python course/ML projects/videocnn/niframes\"\n",
    "    if fclass == 'interesting':\n",
    "        shutil.move(file, dest1)\n",
    "    elif fclass == 'not-interesting':\n",
    "        shutil.move(file, dest2)\n",
    "    \n",
    "test_frames = os.listdir(\"C:/Users/Yash Tandon/Desktop/python course/ML projects/videocnn/frames\")\n",
    "\n",
    "for f in test_frames:\n",
    "    predict_class(f)"
   ]
  },
  {
   "cell_type": "code",
   "execution_count": null,
   "metadata": {},
   "outputs": [],
   "source": [
    "test_video = os.listdir(\"C:/Users/Yash Tandon/Desktop/python course/ML projects/videocnn/test\")\n",
    "for t in test_video:\n",
    "    video = \"C:/Users/Yash Tandon/Desktop/python course/ML projects/videocnn/test/\" + t;\n",
    "    audio = AudioFileClip(video)\n",
    "    audio.write_audiofile(\"audio.wav\", codec = None)"
   ]
  },
  {
   "cell_type": "code",
   "execution_count": null,
   "metadata": {},
   "outputs": [],
   "source": [
    "file = \"audio.wav\";\n",
    "x, sr = librosa.load(file, sr = 16000)\n",
    "int(librosa.get_duration(x, sr)/60)"
   ]
  },
  {
   "cell_type": "code",
   "execution_count": null,
   "metadata": {},
   "outputs": [],
   "source": [
    "max_part = 10\n",
    "length = max_part * sr "
   ]
  },
  {
   "cell_type": "code",
   "execution_count": null,
   "metadata": {},
   "outputs": [],
   "source": [
    "a = x[21 * length: 22 * length]\n",
    "d.Audio(a, rate = sr)"
   ]
  },
  {
   "cell_type": "code",
   "execution_count": null,
   "metadata": {},
   "outputs": [],
   "source": [
    "e = sum(abs(a**2))\n",
    "print(e)\n",
    "len(a)"
   ]
  },
  {
   "cell_type": "code",
   "execution_count": null,
   "metadata": {},
   "outputs": [],
   "source": [
    "fig = plt.figure(figsize=(14, 8))\n",
    "gplot = fig.add_subplot(211)\n",
    "gplot.set_xlabel('Time')\n",
    "gplot.set_ylabel('Amplitude')\n",
    "gplot.plot(a)"
   ]
  },
  {
   "cell_type": "code",
   "execution_count": null,
   "metadata": {},
   "outputs": [],
   "source": [
    "e = np.array([sum(abs(x[i:i+length]**2)) for i in range(0, len(x), length)])"
   ]
  },
  {
   "cell_type": "code",
   "execution_count": null,
   "metadata": {},
   "outputs": [],
   "source": [
    "plt.hist(e)\n",
    "plt.show()"
   ]
  },
  {
   "cell_type": "code",
   "execution_count": null,
   "metadata": {},
   "outputs": [],
   "source": [
    "data = pd.DataFrame(columns = ['energy','start','end'])"
   ]
  },
  {
   "cell_type": "code",
   "execution_count": null,
   "metadata": {},
   "outputs": [],
   "source": [
    "thv = 400\n",
    "row_index = 0\n",
    "for i in range(len(e)):\n",
    "    v = e[i]\n",
    "    if(v>=thv):\n",
    "        i = np.where(e == v)[0]\n",
    "        data.loc[row_index, 'energy'] = v\n",
    "        data.loc[row_index, 'start'] = i[0] * 10\n",
    "        data.loc[row_index, 'end'] = (i[0] + 1) * 10\n",
    "        row_index = row_index + 1"
   ]
  },
  {
   "cell_type": "code",
   "execution_count": null,
   "metadata": {},
   "outputs": [],
   "source": [
    "data"
   ]
  },
  {
   "cell_type": "code",
   "execution_count": null,
   "metadata": {},
   "outputs": [],
   "source": [
    "temp=[]\n",
    "i=0\n",
    "j=0\n",
    "n=len(data) - 2\n",
    "m=len(data) - 1\n",
    "while(i<=n):\n",
    "    j=i+1\n",
    "    while(j<=m):\n",
    "        if(data['end'][i] == data['start'][j]):\n",
    "            data.loc[i,'end'] = data.loc[j,'end']\n",
    "            temp.append(j)\n",
    "            j=j+1\n",
    "        else:\n",
    "            i=j\n",
    "            break"
   ]
  },
  {
   "cell_type": "code",
   "execution_count": null,
   "metadata": {},
   "outputs": [],
   "source": [
    "data.drop(temp,axis=0,inplace=True)"
   ]
  },
  {
   "cell_type": "code",
   "execution_count": null,
   "metadata": {},
   "outputs": [],
   "source": [
    "data"
   ]
  },
  {
   "cell_type": "code",
   "execution_count": null,
   "metadata": {},
   "outputs": [],
   "source": [
    "start=np.array(data['start'])\n",
    "end=np.array(data['end'])\n",
    "for i in range(len(data)):\n",
    "    if(i!=0):\n",
    "        start_lim = start[i] - 5\n",
    "    else:\n",
    "        start_lim = start[i] \n",
    "    end_lim   = end[i]   \n",
    "    filename = \"C:/Users/Yash Tandon/Desktop/python course/ML projects/videocnn/clips/\" + str(i+1) + \".mp4\"\n",
    "    ffmpeg_extract_subclip(video,start_lim,end_lim,targetname=filename)"
   ]
  },
  {
   "cell_type": "code",
   "execution_count": null,
   "metadata": {},
   "outputs": [],
   "source": [
    "c1 = VideoFileClip(\"1.mp4\")\n",
    "c2 = VideoFileClip(\"2.mp4\")\n",
    "c3 = VideoFileClip(\"3.mp4\")\n",
    "c4 = VideoFileClip(\"4.mp4\")\n",
    "c5 = VideoFileClip(\"5.mp4\")\n",
    "c6 = VideoFileClip(\"6.mp4\")\n",
    "c7 = VideoFileClip(\"7.mp4\")\n",
    "c8 = VideoFileClip(\"8.mp4\")\n",
    "c9 = VideoFileClip(\"9.mp4\")\n",
    "c10 = VideoFileClip(\"10.mp4\")\n",
    "final_clip = concatenate_videoclips([c1,c2,c3,c4,c5,c6,c7,c8,c9,c10])\n",
    "final_clip.write_videofile(\"highlights.mp4\")"
   ]
  }
 ],
 "metadata": {
  "kernelspec": {
   "display_name": "Python 3",
   "language": "python",
   "name": "python3"
  },
  "language_info": {
   "codemirror_mode": {
    "name": "ipython",
    "version": 3
   },
   "file_extension": ".py",
   "mimetype": "text/x-python",
   "name": "python",
   "nbconvert_exporter": "python",
   "pygments_lexer": "ipython3",
   "version": "3.6.3"
  }
 },
 "nbformat": 4,
 "nbformat_minor": 2
}
